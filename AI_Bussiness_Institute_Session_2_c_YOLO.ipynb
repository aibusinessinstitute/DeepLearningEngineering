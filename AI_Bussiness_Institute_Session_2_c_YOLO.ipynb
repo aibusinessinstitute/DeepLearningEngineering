{
  "nbformat": 4,
  "nbformat_minor": 0,
  "metadata": {
    "colab": {
      "name": "YOLOv4.ipynb",
      "provenance": [],
      "collapsed_sections": []
    },
    "kernelspec": {
      "name": "python3",
      "display_name": "Python 3"
    },
    "language_info": {
      "name": "python"
    },
    "accelerator": "GPU"
  },
  "cells": [
    {
      "cell_type": "markdown",
      "metadata": {
        "id": "OeRZ-ygBItvG"
      },
      "source": [
        "# Download Darknet"
      ]
    },
    {
      "cell_type": "code",
      "metadata": {
        "id": "XRJIia7fIdQf"
      },
      "source": [
        "!rm -rf darknet\n",
        "!git clone https://github.com/AlexeyAB/darknet\n",
        "!pip install gdown"
      ],
      "execution_count": null,
      "outputs": []
    },
    {
      "cell_type": "markdown",
      "metadata": {
        "id": "B6LYnSthI1dY"
      },
      "source": [
        "# Setup"
      ]
    },
    {
      "cell_type": "code",
      "metadata": {
        "id": "xjZ4MOzcIwhO"
      },
      "source": [
        "%cd darknet\n",
        "!sed -i 's/OPENCV=0/OPENCV=1/' Makefile\n",
        "!sed -i 's/GPU=0/GPU=1/' Makefile\n",
        "!sed -i 's/CUDNN=0/CUDNN=1/' Makefile\n",
        "!sed -i 's/CUDNN_HALF=0/CUDNN_HALF=1/' Makefile\n",
        "!sed -i 's/LIBSO=0/LIBSO=1/' Makefile\n",
        "!make"
      ],
      "execution_count": null,
      "outputs": []
    },
    {
      "cell_type": "markdown",
      "metadata": {
        "id": "pBut7vKJS_ph"
      },
      "source": [
        "# Download Pre-trained model"
      ]
    },
    {
      "cell_type": "code",
      "metadata": {
        "id": "6l1I1XpcTJV7"
      },
      "source": [
        "!wget https://github.com/AlexeyAB/darknet/releases/download/darknet_yolo_v4_pre/yolov4-tiny.conv.29"
      ],
      "execution_count": null,
      "outputs": []
    },
    {
      "cell_type": "markdown",
      "metadata": {
        "id": "ley2llB8RqBi"
      },
      "source": [
        "# Download Experiment Data"
      ]
    },
    {
      "cell_type": "code",
      "metadata": {
        "id": "pmPJ5QcsI2xm"
      },
      "source": [
        "!gdown https://drive.google.com/uc?id=1gnI7zJayZElEpVB-C3niUY07jomLKC-J\n",
        "!unzip -qo agriculture.zip"
      ],
      "execution_count": null,
      "outputs": []
    },
    {
      "cell_type": "markdown",
      "source": [
        "# Training Process"
      ],
      "metadata": {
        "id": "KkYW2PFHiM3-"
      }
    },
    {
      "cell_type": "code",
      "metadata": {
        "id": "AxGGZvBDOIMq"
      },
      "source": [
        "%cd darknet\n",
        "!./darknet detector train \\\n",
        "                    agriculture/obj.data \\\n",
        "                    agriculture/yolov4-tiny-agriculture.cfg \\\n",
        "                    yolov4-tiny.conv.29 \\\n",
        "                    -dont_show"
      ],
      "execution_count": null,
      "outputs": []
    },
    {
      "cell_type": "markdown",
      "metadata": {
        "id": "5h-D6Xf7TS-E"
      },
      "source": [
        "# Inference\n",
        "\n",
        "Note: you may need to restart the runtime before running the following codes.\n",
        "\n",
        "Runtime > Restart runtime"
      ]
    },
    {
      "cell_type": "code",
      "metadata": {
        "id": "xWZAVpjRO8WM"
      },
      "source": [
        "%cd /content/darknet"
      ],
      "execution_count": null,
      "outputs": []
    },
    {
      "cell_type": "markdown",
      "source": [
        "## Imports"
      ],
      "metadata": {
        "id": "eTKH0adTh2wD"
      }
    },
    {
      "cell_type": "code",
      "metadata": {
        "id": "O4_fWFFjUOae"
      },
      "source": [
        "import cv2\n",
        "import matplotlib.pyplot as plt\n",
        "import os\n",
        "import numpy as np\n",
        "import random\n",
        "\n",
        "import glob\n",
        "import darknet\n",
        "\n",
        "from pprint import pprint\n",
        "import matplotlib.pyplot as plt"
      ],
      "execution_count": null,
      "outputs": []
    },
    {
      "cell_type": "markdown",
      "source": [
        "## Utilities"
      ],
      "metadata": {
        "id": "3K0wdz-uh6eS"
      }
    },
    {
      "cell_type": "code",
      "metadata": {
        "id": "0iuDp0Xhn4GB"
      },
      "source": [
        "def check_batch_shape(images, batch_size):\n",
        "    \"\"\"\n",
        "        Image sizes should be the same width and height\n",
        "    \"\"\"\n",
        "    shapes = [image.shape for image in images]\n",
        "    if len(set(shapes)) > 1:\n",
        "        raise ValueError(\"Images don't have same shape\")\n",
        "    if len(shapes) > batch_size:\n",
        "        raise ValueError(\"Batch size higher than number of images\")\n",
        "    return shapes[0]\n",
        "\n",
        "def prepare_batch(images, network, channels=3):\n",
        "    width = darknet.network_width(network)\n",
        "    height = darknet.network_height(network)\n",
        "\n",
        "    darknet_images = []\n",
        "    for image in images:\n",
        "        image_rgb = cv2.cvtColor(image, cv2.COLOR_BGR2RGB)\n",
        "        image_resized = cv2.resize(image_rgb, (width, height),\n",
        "                                   interpolation=cv2.INTER_LINEAR)\n",
        "        custom_image = image_resized.transpose(2, 0, 1)\n",
        "        darknet_images.append(custom_image)\n",
        "\n",
        "    batch_array = np.concatenate(darknet_images, axis=0)\n",
        "    batch_array = np.ascontiguousarray(batch_array.flat, dtype=np.float32)/255.0\n",
        "    darknet_images = batch_array.ctypes.data_as(darknet.POINTER(darknet.c_float))\n",
        "    return darknet.IMAGE(width, height, channels, darknet_images)\n",
        "    \n",
        "def batch_detection(network, images, class_names, class_colors,\n",
        "                    thresh=0.25, hier_thresh=.5, nms=.45, batch_size=4):\n",
        "    image_height, image_width, _ = check_batch_shape(images, batch_size)\n",
        "    darknet_images = prepare_batch(images, network)\n",
        "    batch_detections = darknet.network_predict_batch(network, darknet_images, batch_size, image_width,\n",
        "                                                     image_height, thresh, hier_thresh, None, 0, 0)\n",
        "    batch_predictions = []\n",
        "    for idx in range(batch_size):\n",
        "        num = batch_detections[idx].num\n",
        "        detections = batch_detections[idx].dets\n",
        "        if nms:\n",
        "            darknet.do_nms_obj(detections, num, len(class_names), nms)\n",
        "        predictions = darknet.remove_negatives(detections, class_names, num)\n",
        "        images[idx] = darknet.draw_boxes(predictions, images[idx], class_colors)\n",
        "        batch_predictions.append(predictions)\n",
        "    darknet.free_batch_detections(batch_detections, batch_size)\n",
        "    return images, batch_predictions\n",
        "\n",
        "def image_detection(image_path, network, class_names, class_colors, thresh):\n",
        "    # Darknet doesn't accept numpy images.\n",
        "    # Create one with image we reuse for each detect\n",
        "    width = darknet.network_width(network)\n",
        "    height = darknet.network_height(network)\n",
        "    darknet_image = darknet.make_image(width, height, 3)\n",
        "\n",
        "    image = cv2.imread(image_path)\n",
        "    image_rgb = cv2.cvtColor(image, cv2.COLOR_BGR2RGB)\n",
        "    image_resized = cv2.resize(image_rgb, (width, height),\n",
        "                               interpolation=cv2.INTER_LINEAR)\n",
        "\n",
        "    darknet.copy_image_from_bytes(darknet_image, image_resized.tobytes())\n",
        "    detections = darknet.detect_image(network, class_names, darknet_image, thresh=thresh)\n",
        "    darknet.free_image(darknet_image)\n",
        "    image = darknet.draw_boxes(detections, image_resized, class_colors)\n",
        "    return cv2.cvtColor(image, cv2.COLOR_BGR2RGB), detections\n",
        "\n",
        "def visualize(img, predictions, colors):\n",
        "    output = img.copy()\n",
        "    print(output.shape)\n",
        "    for item in predictions:\n",
        "        label, conf, bbox = item\n",
        "        cx,cy,w,h = (int(x) for x in bbox)\n",
        "        x1 = int(cx-w/2)\n",
        "        x2 = int(cx+w/2)\n",
        "        y1 = int(cy-h/2)\n",
        "        y2 = int(cy+h/2)\n",
        "        output = cv2.rectangle(output, (x1, y1), (x2, y2), colors[label], 2)\n",
        "      \n",
        "    output = output[:,:,::-1]\n",
        "    return output"
      ],
      "execution_count": null,
      "outputs": []
    },
    {
      "cell_type": "markdown",
      "source": [
        "## Loading the trained model"
      ],
      "metadata": {
        "id": "z47nZKs5iBaF"
      }
    },
    {
      "cell_type": "code",
      "metadata": {
        "id": "DtZyFp8xhGEs"
      },
      "source": [
        "batch_size = 16\n",
        "network, class_names, class_colors = darknet.load_network(\n",
        "        'agriculture/yolov4-tiny-agriculture.cfg',\n",
        "        'agriculture/obj.data',\n",
        "        'agriculture/weights/yolov4-tiny-agriculture_last.weights',\n",
        "        batch_size=batch_size\n",
        ")"
      ],
      "execution_count": null,
      "outputs": []
    },
    {
      "cell_type": "markdown",
      "source": [
        "## Inference"
      ],
      "metadata": {
        "id": "0dL3VL0EiFvQ"
      }
    },
    {
      "cell_type": "code",
      "metadata": {
        "id": "63vlyWhroiKR"
      },
      "source": [
        "with open('agriculture/validation.txt') as f:\n",
        "    image_names = f.readlines()\n",
        "    image_names = [x.strip() for x in image_names]\n",
        "\n",
        "random.shuffle(image_names)\n",
        "image_names = image_names[:batch_size]\n",
        "images = [cv2.imread(image) for image in image_names]\n",
        "images, detections,  = batch_detection(network, images, class_names,\n",
        "                                           class_colors, batch_size=batch_size)\n"
      ],
      "execution_count": null,
      "outputs": []
    },
    {
      "cell_type": "markdown",
      "source": [
        "## Visualization"
      ],
      "metadata": {
        "id": "6KUcS2idiIb2"
      }
    },
    {
      "cell_type": "code",
      "metadata": {
        "id": "62-zSpKuWzbR"
      },
      "source": [
        "idx = 15\n",
        "plt.figure(figsize=(10,10))\n",
        "plt.imshow(images[idx])"
      ],
      "execution_count": null,
      "outputs": []
    },
    {
      "cell_type": "code",
      "metadata": {
        "id": "7_9iLDBKpHJI"
      },
      "source": [
        "pprint(detections[1])"
      ],
      "execution_count": null,
      "outputs": []
    },
    {
      "cell_type": "code",
      "source": [
        ""
      ],
      "metadata": {
        "id": "jn_zH6Cwaq3e"
      },
      "execution_count": null,
      "outputs": []
    }
  ]
}