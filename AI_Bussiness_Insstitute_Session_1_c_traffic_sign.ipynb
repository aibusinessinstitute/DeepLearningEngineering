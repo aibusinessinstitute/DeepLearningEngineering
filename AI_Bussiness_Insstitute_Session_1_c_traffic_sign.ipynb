{
  "nbformat": 4,
  "nbformat_minor": 0,
  "metadata": {
    "colab": {
      "name": "AI Bussiness Insstitute Session 1.c - traffic_sign.ipynb",
      "provenance": [],
      "collapsed_sections": []
    },
    "kernelspec": {
      "name": "python3",
      "display_name": "Python 3"
    },
    "language_info": {
      "name": "python"
    }
  },
  "cells": [
    {
      "cell_type": "markdown",
      "source": [
        "# Downloading Datset"
      ],
      "metadata": {
        "id": "JYAV0vTo5RYn"
      }
    },
    {
      "cell_type": "markdown",
      "source": [
        "Update the gdown first so that it can download large-sized file"
      ],
      "metadata": {
        "id": "O5HjS7ZX5VBq"
      }
    },
    {
      "cell_type": "code",
      "source": [
        "!pip install --upgrade --no-cache-dir gdown"
      ],
      "metadata": {
        "colab": {
          "base_uri": "https://localhost:8080/"
        },
        "id": "l0qu6c7R_OgR",
        "outputId": "24d6f9f0-c7a1-4d81-9a65-3b75334a1159"
      },
      "execution_count": 1,
      "outputs": [
        {
          "output_type": "stream",
          "name": "stdout",
          "text": [
            "Requirement already satisfied: gdown in /usr/local/lib/python3.7/dist-packages (4.4.0)\n",
            "Requirement already satisfied: requests[socks] in /usr/local/lib/python3.7/dist-packages (from gdown) (2.23.0)\n",
            "Requirement already satisfied: filelock in /usr/local/lib/python3.7/dist-packages (from gdown) (3.6.0)\n",
            "Requirement already satisfied: six in /usr/local/lib/python3.7/dist-packages (from gdown) (1.15.0)\n",
            "Requirement already satisfied: tqdm in /usr/local/lib/python3.7/dist-packages (from gdown) (4.63.0)\n",
            "Requirement already satisfied: beautifulsoup4 in /usr/local/lib/python3.7/dist-packages (from gdown) (4.6.3)\n",
            "Requirement already satisfied: certifi>=2017.4.17 in /usr/local/lib/python3.7/dist-packages (from requests[socks]->gdown) (2021.10.8)\n",
            "Requirement already satisfied: chardet<4,>=3.0.2 in /usr/local/lib/python3.7/dist-packages (from requests[socks]->gdown) (3.0.4)\n",
            "Requirement already satisfied: urllib3!=1.25.0,!=1.25.1,<1.26,>=1.21.1 in /usr/local/lib/python3.7/dist-packages (from requests[socks]->gdown) (1.24.3)\n",
            "Requirement already satisfied: idna<3,>=2.5 in /usr/local/lib/python3.7/dist-packages (from requests[socks]->gdown) (2.10)\n",
            "Requirement already satisfied: PySocks!=1.5.7,>=1.5.6 in /usr/local/lib/python3.7/dist-packages (from requests[socks]->gdown) (1.7.1)\n"
          ]
        }
      ]
    },
    {
      "cell_type": "markdown",
      "source": [
        "Downloading the dataset"
      ],
      "metadata": {
        "id": "T9hQWz0E5ZAX"
      }
    },
    {
      "cell_type": "code",
      "execution_count": 2,
      "metadata": {
        "colab": {
          "base_uri": "https://localhost:8080/"
        },
        "id": "Jcb4MA9B9XVi",
        "outputId": "e84e1082-07a6-4f28-ddca-ce1e2f9868c3"
      },
      "outputs": [
        {
          "output_type": "stream",
          "name": "stdout",
          "text": [
            "Downloading...\n",
            "From: https://drive.google.com/uc?id=1nlC561JoAyFjMg9cuGyGf_9h77yRgydW\n",
            "To: /content/traffic_sign.zip\n",
            "100% 40.1M/40.1M [00:00<00:00, 69.3MB/s]\n"
          ]
        }
      ],
      "source": [
        "!gdown https://drive.google.com/uc?id=1nlC561JoAyFjMg9cuGyGf_9h77yRgydW"
      ]
    },
    {
      "cell_type": "code",
      "source": [
        "!unzip -q -o traffic_sign.zip"
      ],
      "metadata": {
        "id": "XRJGIpau9uFb"
      },
      "execution_count": 3,
      "outputs": []
    },
    {
      "cell_type": "markdown",
      "source": [
        "# Imports"
      ],
      "metadata": {
        "id": "zx2rG-Tb5bTt"
      }
    },
    {
      "cell_type": "code",
      "source": [
        "import matplotlib.pyplot as plt\n",
        "import cv2\n",
        "import os\n",
        "from skimage.feature import hog"
      ],
      "metadata": {
        "id": "NImHRNYv_aYs"
      },
      "execution_count": 4,
      "outputs": []
    },
    {
      "cell_type": "code",
      "source": [
        "import torch\n",
        "import numpy as np\n",
        "\n",
        "torch.manual_seed(1337)\n",
        "np.random.seed(1337)"
      ],
      "metadata": {
        "id": "ccih91xfg466"
      },
      "execution_count": 5,
      "outputs": []
    },
    {
      "cell_type": "markdown",
      "source": [
        "# Dataset Loader"
      ],
      "metadata": {
        "id": "lwc8CVuo5fMM"
      }
    },
    {
      "cell_type": "code",
      "source": [
        "from PIL import Image\n",
        "from torch.utils.data import Dataset\n",
        "\n",
        "class TrafficSignImageDataset(Dataset):\n",
        "\n",
        "    def __init__(self, path, transform=None):\n",
        "        \n",
        "        folders = os.listdir(path)\n",
        "        folders = [x for x in folders if os.path.isdir(os.path.join(path, x))]\n",
        "        \n",
        "        self.transform=transform\n",
        "\n",
        "        self.filenames = []\n",
        "        self.labels = []\n",
        "    \n",
        "        for label, folder in enumerate(folders):\n",
        "            folderpath = os.path.join(path, folder)\n",
        "            \n",
        "            files = os.listdir(folderpath)\n",
        "            np.random.shuffle(files)\n",
        "    \n",
        "            for f in files:\n",
        "                filename = os.path.join(folderpath, f)\n",
        "                self.filenames.append(filename)\n",
        "                self.labels.append(label)\n",
        "\n",
        "    def __len__(self):\n",
        "        return len(self.filenames)\n",
        "\n",
        "    def __getitem__(self, i):\n",
        "        filename, label = self.filenames[i], self.labels[i]\n",
        "        image = Image.open(filename).convert('RGB')\n",
        "\n",
        "        if self.transform is not None:\n",
        "            image = self.transform(image)\n",
        "\n",
        "        return image, label"
      ],
      "metadata": {
        "id": "nZld2EsoQkn9"
      },
      "execution_count": 6,
      "outputs": []
    },
    {
      "cell_type": "code",
      "source": [
        "from torch.utils.data import DataLoader\n",
        "from torchvision import transforms\n",
        "\n",
        "batch_size = 16\n",
        "root = 'traffic_sign'\n",
        "\n",
        "preprocessing = transforms.Compose([               \n",
        "    transforms.Resize([40,40]),  \n",
        "    transforms.RandomRotation(10),\n",
        "    transforms.RandomCrop([32, 32]),   \n",
        "    transforms.Grayscale(),\n",
        "    transforms.ToTensor(),       \n",
        "])\n",
        "\n",
        "dataset = TrafficSignImageDataset(root, transform=preprocessing)\n",
        "data_loader = DataLoader(dataset=dataset,\n",
        "                          batch_size=batch_size,\n",
        "                          shuffle=True, num_workers=2)\n"
      ],
      "metadata": {
        "id": "MqX61otgUeiq"
      },
      "execution_count": 7,
      "outputs": []
    },
    {
      "cell_type": "code",
      "source": [
        "for i, (x,y) in enumerate(data_loader):\n",
        "    print(x.shape, y.shape)\n",
        "    break"
      ],
      "metadata": {
        "colab": {
          "base_uri": "https://localhost:8080/"
        },
        "id": "6WY-AFSEU5hQ",
        "outputId": "19e14485-573d-46ba-9db2-5756b75ed788"
      },
      "execution_count": 8,
      "outputs": [
        {
          "output_type": "stream",
          "name": "stdout",
          "text": [
            "torch.Size([16, 1, 32, 32]) torch.Size([16])\n"
          ]
        }
      ]
    },
    {
      "cell_type": "code",
      "source": [
        "plt.imshow(x[0][0].numpy(), cmap='gray', vmin=0, vmax=1.)"
      ],
      "metadata": {
        "colab": {
          "base_uri": "https://localhost:8080/",
          "height": 283
        },
        "id": "w7IW7cb58qsD",
        "outputId": "bd48cd3c-35ae-47e8-abb1-bb0f35c8cf6f"
      },
      "execution_count": 9,
      "outputs": [
        {
          "output_type": "execute_result",
          "data": {
            "text/plain": [
              "<matplotlib.image.AxesImage at 0x7f7a8afa3190>"
            ]
          },
          "metadata": {},
          "execution_count": 9
        },
        {
          "output_type": "display_data",
          "data": {
            "text/plain": [
              "<Figure size 432x288 with 1 Axes>"
            ],
            "image/png": "[encoded data removed]"
          },
          "metadata": {
            "needs_background": "light"
          }
        }
      ]
    },
    {
      "cell_type": "markdown",
      "source": [
        "# Model"
      ],
      "metadata": {
        "id": "eBo4QIOEVoEy"
      }
    },
    {
      "cell_type": "code",
      "source": [
        "import torch\n",
        "import torch.nn as nn\n",
        "\n",
        "class Net(nn.Module):\n",
        "    def __init__(self, feat_size, n_class):\n",
        "        super(Net, self).__init__()\n",
        "\n",
        "        self.relu = nn.ReLU(inplace=True)\n",
        "        self.layer1 = torch.nn.Linear(feat_size, 128)\n",
        "        self.layer2 = torch.nn.Linear(128, 64)\n",
        "        self.layer3 = torch.nn.Linear(64, 16)\n",
        "    \n",
        "        self.classifier =  torch.nn.Linear(16, n_class)\n",
        "        \n",
        "    def forward(self, x):\n",
        "        relu = self.relu\n",
        "        x = x.reshape(-1,32*32)\n",
        "        x = relu(self.layer1(x))\n",
        "        x = relu(self.layer2(x))\n",
        "        x = relu(self.layer3(x))\n",
        "\n",
        "        out = relu(self.classifier(x))\n",
        "\n",
        "        return out"
      ],
      "metadata": {
        "id": "qwYQAI_uVpzk"
      },
      "execution_count": 10,
      "outputs": []
    },
    {
      "cell_type": "code",
      "source": [
        "predictor = Net(32*32, 10)\n",
        "pred = predictor(x)"
      ],
      "metadata": {
        "id": "9QboNyUiXFOV"
      },
      "execution_count": 11,
      "outputs": []
    },
    {
      "cell_type": "code",
      "source": [
        "print(torch.argmax(pred, dim=1))\n",
        "print(y)"
      ],
      "metadata": {
        "colab": {
          "base_uri": "https://localhost:8080/"
        },
        "id": "MxmJmhn0XZLd",
        "outputId": "1c0cd042-b3e8-43e3-8ce2-53a8ae03efff"
      },
      "execution_count": 12,
      "outputs": [
        {
          "output_type": "stream",
          "name": "stdout",
          "text": [
            "tensor([4, 8, 8, 4, 4, 4, 8, 4, 8, 8, 4, 8, 8, 4, 4, 8])\n",
            "tensor([4, 3, 5, 0, 0, 4, 1, 0, 4, 3, 2, 9, 6, 2, 1, 7])\n"
          ]
        }
      ]
    },
    {
      "cell_type": "markdown",
      "source": [
        "# Training"
      ],
      "metadata": {
        "id": "OVmoe9XRVKb0"
      }
    },
    {
      "cell_type": "code",
      "source": [
        "from torch.nn.functional import cross_entropy\n",
        "\n",
        "def training(model, optimizer, data_loader, objective_function, device, max_iter=-1):\n",
        "    model.train()\n",
        "\n",
        "    for i, (x,y) in enumerate(data_loader):\n",
        "        x = x.to(device)\n",
        "        y = y.to(device)\n",
        "        \n",
        "        logits = model(x)\n",
        "        \n",
        "        loss = objective_function(logits, y)\n",
        "\n",
        "        optimizer.zero_grad()\n",
        "        loss.backward()\n",
        "        optimizer.step()\n",
        "\n",
        "        if i==max_iter:\n",
        "            break\n",
        "    \n",
        "    model.eval()"
      ],
      "metadata": {
        "id": "riStXFbCU_1l"
      },
      "execution_count": 13,
      "outputs": []
    },
    {
      "cell_type": "code",
      "source": [
        "\n",
        "cpu = torch.device('cpu')\n",
        "def count_acc(logits, label, device = cpu):\n",
        "    pred = torch.argmax(logits, dim=1)\n",
        "    return (pred == label).to(device).type(torch.FloatTensor).mean().item()\n",
        "\n",
        "@torch.no_grad()\n",
        "def evaluation(model, data_loader, objective_function, device, max_iter=-1):\n",
        "    model.eval()\n",
        "\n",
        "    loss_values = []\n",
        "    accuracy_values = []\n",
        "\n",
        "    for i, (x,y) in enumerate(data_loader):\n",
        "        \n",
        "        x = x.to(device)\n",
        "        y = y.to(device)\n",
        "\n",
        "        with torch.no_grad():\n",
        "            \n",
        "            logits = model(x)\n",
        "\n",
        "            loss = objective_function(logits, y)\n",
        "            acc = count_acc(logits, y, device)\n",
        "\n",
        "        loss_values.append(loss.item())\n",
        "        accuracy_values.append(acc)\n",
        "\n",
        "        if i==max_iter:\n",
        "            break\n",
        "\n",
        "    loss = np.mean(loss_values)\n",
        "    accuracy = np.mean(accuracy_values)\n",
        "\n",
        "    return loss, accuracy"
      ],
      "metadata": {
        "id": "B_AkqTH-VZ9x"
      },
      "execution_count": 14,
      "outputs": []
    },
    {
      "cell_type": "code",
      "source": [
        "predictor = Net(32*32, 10)\n",
        "pred = predictor(x)\n",
        "\n",
        "device = torch.device('cuda' if torch.cuda.is_available() else 'cpu')\n",
        "predictor.to(device)\n",
        "\n",
        "optimizer = torch.optim.Adam(predictor.parameters(), lr=3e-4)\n",
        "scheduler = torch.optim.lr_scheduler.StepLR(optimizer, step_size=25, gamma=0.5)"
      ],
      "metadata": {
        "id": "3zHIgVvqYfn3"
      },
      "execution_count": 15,
      "outputs": []
    },
    {
      "cell_type": "code",
      "source": [
        "epochs = 10\n",
        "model_checkpoint = 'best_model.pth'\n",
        "\n",
        "best_acc = 0\n",
        "for e in range(epochs):\n",
        "    training(predictor, optimizer, data_loader, cross_entropy, device, max_iter=-1)\n",
        "    \n",
        "    loss, acc = evaluation(predictor, data_loader, cross_entropy, device, max_iter=-1)\n",
        "    scheduler.step()\n",
        "\n",
        "    print('epoch %d loss=%f acc=%f'%(e, loss, acc))\n",
        "    \n",
        "    if acc>=best_acc:\n",
        "        predictor.eval()\n",
        "        torch.save(predictor.state_dict(), model_checkpoint)\n",
        "        best_acc = acc"
      ],
      "metadata": {
        "colab": {
          "base_uri": "https://localhost:8080/"
        },
        "id": "A_b3JNrxYDRj",
        "outputId": "ecae5692-86b5-4c1c-ccec-5fcd4f1925b2"
      },
      "execution_count": 16,
      "outputs": [
        {
          "output_type": "stream",
          "name": "stdout",
          "text": [
            "epoch 0 loss=2.134897 acc=0.244907\n",
            "epoch 1 loss=1.886597 acc=0.366667\n",
            "epoch 2 loss=1.768032 acc=0.456481\n",
            "epoch 3 loss=1.673920 acc=0.519444\n",
            "epoch 4 loss=1.651532 acc=0.496296\n",
            "epoch 5 loss=1.581129 acc=0.544907\n",
            "epoch 6 loss=1.539218 acc=0.540278\n",
            "epoch 7 loss=1.480579 acc=0.577778\n",
            "epoch 8 loss=1.428315 acc=0.586111\n",
            "epoch 9 loss=1.416262 acc=0.594907\n"
          ]
        }
      ]
    },
    {
      "cell_type": "code",
      "source": [
        ""
      ],
      "metadata": {
        "id": "zDkkkIKj9vLR"
      },
      "execution_count": 16,
      "outputs": []
    }
  ]
}