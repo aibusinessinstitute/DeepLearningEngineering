{
  "nbformat": 4,
  "nbformat_minor": 0,
  "metadata": {
    "colab": {
      "name": "AI Bussiness Insstitute Session 1.c - HOG_traffic_sign.ipynb",
      "provenance": [],
      "collapsed_sections": [],
      "toc_visible": true
    },
    "kernelspec": {
      "name": "python3",
      "display_name": "Python 3"
    },
    "language_info": {
      "name": "python"
    }
  },
  "cells": [
    {
      "cell_type": "markdown",
      "source": [
        "# Downloading Datset"
      ],
      "metadata": {
        "id": "JYAV0vTo5RYn"
      }
    },
    {
      "cell_type": "markdown",
      "source": [
        "Update the gdown first so that it can download large-sized file"
      ],
      "metadata": {
        "id": "O5HjS7ZX5VBq"
      }
    },
    {
      "cell_type": "code",
      "source": [
        "!pip install --upgrade --no-cache-dir gdown"
      ],
      "metadata": {
        "colab": {
          "base_uri": "https://localhost:8080/"
        },
        "id": "l0qu6c7R_OgR",
        "outputId": "05d3ab69-6615-4d94-e468-0766e145d10b"
      },
      "execution_count": 1,
      "outputs": [
        {
          "output_type": "stream",
          "name": "stdout",
          "text": [
            "Requirement already satisfied: gdown in /usr/local/lib/python3.7/dist-packages (4.4.0)\n",
            "Requirement already satisfied: six in /usr/local/lib/python3.7/dist-packages (from gdown) (1.15.0)\n",
            "Requirement already satisfied: filelock in /usr/local/lib/python3.7/dist-packages (from gdown) (3.6.0)\n",
            "Requirement already satisfied: requests[socks] in /usr/local/lib/python3.7/dist-packages (from gdown) (2.23.0)\n",
            "Requirement already satisfied: beautifulsoup4 in /usr/local/lib/python3.7/dist-packages (from gdown) (4.6.3)\n",
            "Requirement already satisfied: tqdm in /usr/local/lib/python3.7/dist-packages (from gdown) (4.63.0)\n",
            "Requirement already satisfied: urllib3!=1.25.0,!=1.25.1,<1.26,>=1.21.1 in /usr/local/lib/python3.7/dist-packages (from requests[socks]->gdown) (1.24.3)\n",
            "Requirement already satisfied: idna<3,>=2.5 in /usr/local/lib/python3.7/dist-packages (from requests[socks]->gdown) (2.10)\n",
            "Requirement already satisfied: certifi>=2017.4.17 in /usr/local/lib/python3.7/dist-packages (from requests[socks]->gdown) (2021.10.8)\n",
            "Requirement already satisfied: chardet<4,>=3.0.2 in /usr/local/lib/python3.7/dist-packages (from requests[socks]->gdown) (3.0.4)\n",
            "Requirement already satisfied: PySocks!=1.5.7,>=1.5.6 in /usr/local/lib/python3.7/dist-packages (from requests[socks]->gdown) (1.7.1)\n"
          ]
        }
      ]
    },
    {
      "cell_type": "markdown",
      "source": [
        "Downloading the dataset"
      ],
      "metadata": {
        "id": "T9hQWz0E5ZAX"
      }
    },
    {
      "cell_type": "code",
      "execution_count": 2,
      "metadata": {
        "colab": {
          "base_uri": "https://localhost:8080/"
        },
        "id": "Jcb4MA9B9XVi",
        "outputId": "da69c309-658f-4cc8-bb70-17204f7ffa63"
      },
      "outputs": [
        {
          "output_type": "stream",
          "name": "stdout",
          "text": [
            "Downloading...\n",
            "From: https://drive.google.com/uc?id=1nlC561JoAyFjMg9cuGyGf_9h77yRgydW\n",
            "To: /content/traffic_sign.zip\n",
            "100% 40.1M/40.1M [00:00<00:00, 242MB/s]\n"
          ]
        }
      ],
      "source": [
        "!gdown https://drive.google.com/uc?id=1nlC561JoAyFjMg9cuGyGf_9h77yRgydW"
      ]
    },
    {
      "cell_type": "code",
      "source": [
        "!unzip -q -o traffic_sign.zip"
      ],
      "metadata": {
        "id": "XRJGIpau9uFb"
      },
      "execution_count": 3,
      "outputs": []
    },
    {
      "cell_type": "markdown",
      "source": [
        "# Imports"
      ],
      "metadata": {
        "id": "zx2rG-Tb5bTt"
      }
    },
    {
      "cell_type": "code",
      "source": [
        "import matplotlib.pyplot as plt\n",
        "import cv2\n",
        "import os\n",
        "from skimage.feature import hog"
      ],
      "metadata": {
        "id": "NImHRNYv_aYs"
      },
      "execution_count": 4,
      "outputs": []
    },
    {
      "cell_type": "code",
      "source": [
        "import torch\n",
        "import numpy as np\n",
        "\n",
        "torch.manual_seed(1337)\n",
        "np.random.seed(1337)"
      ],
      "metadata": {
        "id": "ccih91xfg466"
      },
      "execution_count": 5,
      "outputs": []
    },
    {
      "cell_type": "markdown",
      "source": [
        "# Dataset Preparation"
      ],
      "metadata": {
        "id": "lwc8CVuo5fMM"
      }
    },
    {
      "cell_type": "markdown",
      "source": [
        "Extracting the HOG feature for each image"
      ],
      "metadata": {
        "id": "p5VpvUII5k5_"
      }
    },
    {
      "cell_type": "code",
      "source": [
        "\n",
        "root = 'traffic_sign'\n",
        "folders = os.listdir(root)\n",
        "\n",
        "for folder in folders[5:]:\n",
        "    folderpath = os.path.join(root, folder)\n",
        "    if not os.path.isdir(folderpath):\n",
        "        continue\n",
        "    \n",
        "    files = os.listdir(folderpath)\n",
        "    for f in files[9:]:\n",
        "        filename = os.path.join(folderpath, f)\n",
        "        img = cv2.imread(filename)\n",
        "        \n",
        "        resized = cv2.resize(img, (40,40))\n",
        "        feat, hog_image = hog(resized, orientations=9, pixels_per_cell=(8, 8), \n",
        "                    cells_per_block=(2, 2), visualize=True, multichannel=True)\n",
        "        print(feat.shape)\n",
        "        plt.figure()\n",
        "        plt.subplot(1,2,1)\n",
        "        plt.imshow(img[:,:,::-1])\n",
        "        plt.subplot(1,2,2)\n",
        "        plt.imshow(hog_image)\n",
        "        break\n",
        "    break\n",
        "    "
      ],
      "metadata": {
        "colab": {
          "base_uri": "https://localhost:8080/",
          "height": 219
        },
        "id": "PnhZ1NpW_oFW",
        "outputId": "fee9a6a6-b985-4102-9ebd-5777ec770d7b"
      },
      "execution_count": 6,
      "outputs": [
        {
          "output_type": "stream",
          "name": "stdout",
          "text": [
            "(576,)\n"
          ]
        },
        {
          "output_type": "display_data",
          "data": {
            "text/plain": [
              "<Figure size 432x288 with 2 Axes>"
            ],
            "image/png": "[encoded data removed]"
          },
          "metadata": {
            "needs_background": "light"
          }
        }
      ]
    },
    {
      "cell_type": "markdown",
      "source": [
        "## Process all files and split into Training set and Test set"
      ],
      "metadata": {
        "id": "YzXjpmI_5p7o"
      }
    },
    {
      "cell_type": "code",
      "source": [
        "root = 'traffic_sign'\n",
        "folders = os.listdir(root)\n",
        "folders = [x for x in folders if os.path.isdir(os.path.join(root, x))]\n",
        "\n",
        "features_train = []\n",
        "labels_train = []\n",
        "features_test = []\n",
        "labels_test = []\n",
        "\n",
        "for label, folder in enumerate(folders):\n",
        "    folderpath = os.path.join(root, folder)\n",
        "    \n",
        "    files = os.listdir(folderpath)\n",
        "    np.random.shuffle(files)\n",
        "\n",
        "    k = 0\n",
        "    n_test = 20\n",
        "    for f in files:\n",
        "        filename = os.path.join(folderpath, f)\n",
        "        img = cv2.imread(filename)\n",
        "        \n",
        "        resized = cv2.resize(img, (40,40))\n",
        "        feat, hog_image = hog(resized, orientations=9, pixels_per_cell=(8, 8), \n",
        "                    cells_per_block=(2, 2), visualize=True, multichannel=True)\n",
        "\n",
        "        k+=1\n",
        "        if k>n_test:\n",
        "            features_train.append(feat)\n",
        "            labels_train.append(label)\n",
        "        else:\n",
        "            features_test.append(feat)\n",
        "            labels_test.append(label)\n",
        "    \n",
        "features_train = np.array(features_train).astype(np.float32) #pytorch only accept float32\n",
        "labels_train = np.array(labels_train)\n",
        "\n",
        "features_test = np.array(features_test).astype(np.float32)\n",
        "labels_test = np.array(labels_test)"
      ],
      "metadata": {
        "id": "_WHn2m5E_9cu"
      },
      "execution_count": 7,
      "outputs": []
    },
    {
      "cell_type": "markdown",
      "source": [
        "## Split the training data into training and validation"
      ],
      "metadata": {
        "id": "vysR5VJU5zga"
      }
    },
    {
      "cell_type": "code",
      "source": [
        "order = [x for x in range(features_train.shape[0])]\n",
        "np.random.shuffle(order)\n",
        "\n",
        "features_train = features_train[order]\n",
        "labels_train = labels_train[order]\n",
        "\n",
        "val_ratio = 0.2\n",
        "n_val = int(val_ratio*features_train.shape[0])\n",
        "\n",
        "features_val = features_train[:n_val]\n",
        "features_train = features_train[n_val:]\n",
        "labels_val = labels_train[:n_val]\n",
        "labels_train = labels_train[n_val:]"
      ],
      "metadata": {
        "id": "0LWhijTGCZdI"
      },
      "execution_count": 8,
      "outputs": []
    },
    {
      "cell_type": "code",
      "source": [
        "print(features_train.shape)\n",
        "print(features_val.shape)\n",
        "print(features_test.shape)"
      ],
      "metadata": {
        "colab": {
          "base_uri": "https://localhost:8080/"
        },
        "id": "OgKUIvk2Cb91",
        "outputId": "20530b7c-9b81-412a-e211-e2c3a0ec3f5f"
      },
      "execution_count": 9,
      "outputs": [
        {
          "output_type": "stream",
          "name": "stdout",
          "text": [
            "(1568, 576)\n",
            "(392, 576)\n",
            "(200, 576)\n"
          ]
        }
      ]
    },
    {
      "cell_type": "markdown",
      "source": [
        "# Dataset Loader"
      ],
      "metadata": {
        "id": "BBf9CIlA6QzR"
      }
    },
    {
      "cell_type": "code",
      "source": [
        "from torch.utils.data import Dataset\n",
        "\n",
        "class TrafficSignDataset(Dataset):\n",
        "\n",
        "    def __init__(self, features, labels):\n",
        "        \n",
        "        self.features = features\n",
        "        self.labels = labels\n",
        "    \n",
        "    def __len__(self):\n",
        "        return len(self.features)\n",
        "\n",
        "    def __getitem__(self, i):\n",
        "        feat, label = self.features[i], self.labels[i]\n",
        "        return feat, label"
      ],
      "metadata": {
        "id": "1_xg_q3lCrOZ"
      },
      "execution_count": 10,
      "outputs": []
    },
    {
      "cell_type": "markdown",
      "source": [
        "## Test loading the dataset"
      ],
      "metadata": {
        "id": "8SCKdJFN6ZJu"
      }
    },
    {
      "cell_type": "code",
      "source": [
        "from torch.utils.data import DataLoader\n",
        "\n",
        "batch_size = 16\n",
        "\n",
        "trainset = TrafficSignDataset(features_train, labels_train)\n",
        "train_loader = DataLoader(dataset=trainset,\n",
        "                          batch_size=batch_size,\n",
        "                          shuffle=True, num_workers=2)\n",
        "\n",
        "\n",
        "valset = TrafficSignDataset(features_val, labels_val)\n",
        "val_loader = DataLoader(dataset=valset,\n",
        "                          batch_size=1,\n",
        "                          shuffle=True, num_workers=2)\n"
      ],
      "metadata": {
        "id": "MqX61otgUeiq"
      },
      "execution_count": 11,
      "outputs": []
    },
    {
      "cell_type": "code",
      "source": [
        "for i, (x,y) in enumerate(train_loader):\n",
        "    print(x.shape, y.shape)\n",
        "    break"
      ],
      "metadata": {
        "colab": {
          "base_uri": "https://localhost:8080/"
        },
        "id": "6WY-AFSEU5hQ",
        "outputId": "a3f27cf2-f178-4314-a083-30a36a16c914"
      },
      "execution_count": 12,
      "outputs": [
        {
          "output_type": "stream",
          "name": "stdout",
          "text": [
            "torch.Size([16, 576]) torch.Size([16])\n"
          ]
        }
      ]
    },
    {
      "cell_type": "markdown",
      "source": [
        "# Model"
      ],
      "metadata": {
        "id": "eBo4QIOEVoEy"
      }
    },
    {
      "cell_type": "code",
      "source": [
        "import torch\n",
        "import torch.nn as nn\n",
        "\n",
        "class Net(nn.Module):\n",
        "    def __init__(self, feat_size, n_class):\n",
        "        super(Net, self).__init__()\n",
        "\n",
        "        self.relu = nn.ReLU(inplace=True)\n",
        "        self.layer1 = torch.nn.Linear(feat_size, 128)\n",
        "        self.layer2 = torch.nn.Linear(128, 64)\n",
        "        self.layer3 = torch.nn.Linear(64, 16)\n",
        "    \n",
        "        self.classifier =  torch.nn.Linear(16, n_class)\n",
        "        \n",
        "    def forward(self, x):\n",
        "        relu = self.relu\n",
        "        \n",
        "        x = relu(self.layer1(x))\n",
        "        x = relu(self.layer2(x))\n",
        "        x = relu(self.layer3(x))\n",
        "\n",
        "        out = relu(self.classifier(x))\n",
        "\n",
        "        return out"
      ],
      "metadata": {
        "id": "qwYQAI_uVpzk"
      },
      "execution_count": 13,
      "outputs": []
    },
    {
      "cell_type": "markdown",
      "source": [
        "## Test running the model"
      ],
      "metadata": {
        "id": "ZRvjGTdS6cEI"
      }
    },
    {
      "cell_type": "code",
      "source": [
        "predictor = Net(features_train.shape[1], 10)\n",
        "pred = predictor(x)"
      ],
      "metadata": {
        "id": "9QboNyUiXFOV"
      },
      "execution_count": 14,
      "outputs": []
    },
    {
      "cell_type": "code",
      "source": [
        "print(torch.argmax(pred, dim=1))\n",
        "print(y)"
      ],
      "metadata": {
        "colab": {
          "base_uri": "https://localhost:8080/"
        },
        "id": "MxmJmhn0XZLd",
        "outputId": "9b8918d9-115e-4284-9780-47bf334faf75"
      },
      "execution_count": 15,
      "outputs": [
        {
          "output_type": "stream",
          "name": "stdout",
          "text": [
            "tensor([1, 1, 1, 1, 1, 1, 1, 1, 1, 1, 1, 1, 1, 1, 1, 1])\n",
            "tensor([0, 6, 7, 8, 3, 0, 8, 1, 5, 7, 5, 6, 6, 2, 6, 4])\n"
          ]
        }
      ]
    },
    {
      "cell_type": "markdown",
      "source": [
        "# Training"
      ],
      "metadata": {
        "id": "OVmoe9XRVKb0"
      }
    },
    {
      "cell_type": "code",
      "source": [
        "from torch.nn.functional import cross_entropy\n",
        "\n",
        "def training(model, optimizer, data_loader, objective_function, device, max_iter=-1):\n",
        "    model.train()\n",
        "\n",
        "    for i, (x,y) in enumerate(data_loader):\n",
        "        x = x.to(device)\n",
        "        y = y.to(device)\n",
        "        \n",
        "        logits = model(x)\n",
        "        \n",
        "        loss = objective_function(logits, y)\n",
        "\n",
        "        optimizer.zero_grad()\n",
        "        loss.backward()\n",
        "        optimizer.step()\n",
        "\n",
        "        if i==max_iter:\n",
        "            break\n",
        "    \n",
        "    model.eval()"
      ],
      "metadata": {
        "id": "riStXFbCU_1l"
      },
      "execution_count": 16,
      "outputs": []
    },
    {
      "cell_type": "code",
      "source": [
        "\n",
        "cpu = torch.device('cpu')\n",
        "def count_acc(logits, label, device = cpu):\n",
        "    pred = torch.argmax(logits, dim=1)\n",
        "    return (pred == label).to(device).type(torch.FloatTensor).mean().item()\n",
        "\n",
        "@torch.no_grad()\n",
        "def evaluation(model, data_loader, objective_function, device, max_iter=-1):\n",
        "    model.eval()\n",
        "\n",
        "    loss_values = []\n",
        "    accuracy_values = []\n",
        "\n",
        "    for i, (x,y) in enumerate(data_loader):\n",
        "        \n",
        "        x = x.to(device)\n",
        "        y = y.to(device)\n",
        "\n",
        "        with torch.no_grad():\n",
        "            \n",
        "            logits = model(x)\n",
        "\n",
        "            loss = objective_function(logits, y)\n",
        "            acc = count_acc(logits, y, device)\n",
        "\n",
        "        loss_values.append(loss.item())\n",
        "        accuracy_values.append(acc)\n",
        "\n",
        "        if i==max_iter:\n",
        "            break\n",
        "\n",
        "    loss = np.mean(loss_values)\n",
        "    accuracy = np.mean(accuracy_values)\n",
        "\n",
        "    return loss, accuracy"
      ],
      "metadata": {
        "id": "B_AkqTH-VZ9x"
      },
      "execution_count": 17,
      "outputs": []
    },
    {
      "cell_type": "code",
      "source": [
        "predictor = Net(features_train.shape[1], 10)\n",
        "pred = predictor(x)\n",
        "\n",
        "device = torch.device('cuda' if torch.cuda.is_available() else 'cpu')\n",
        "predictor.to(device)\n",
        "\n",
        "optimizer = torch.optim.Adam(predictor.parameters(), lr=3e-4)\n",
        "scheduler = torch.optim.lr_scheduler.StepLR(optimizer, step_size=25, gamma=0.5)"
      ],
      "metadata": {
        "id": "3zHIgVvqYfn3"
      },
      "execution_count": 18,
      "outputs": []
    },
    {
      "cell_type": "code",
      "source": [
        "epochs = 10\n",
        "model_checkpoint = 'best_model.pth'\n",
        "\n",
        "best_acc = 0\n",
        "for e in range(epochs):\n",
        "    training(predictor, optimizer, train_loader, cross_entropy, device, max_iter=-1)\n",
        "    \n",
        "    loss, acc = evaluation(predictor, val_loader, cross_entropy, device, max_iter=-1)\n",
        "    scheduler.step()\n",
        "\n",
        "    print('epoch %d loss=%f acc=%f'%(e, loss, acc))\n",
        "    \n",
        "    if acc>=best_acc:\n",
        "        predictor.eval()\n",
        "        torch.save(predictor.state_dict(), model_checkpoint)\n",
        "        best_acc = acc"
      ],
      "metadata": {
        "colab": {
          "base_uri": "https://localhost:8080/"
        },
        "id": "A_b3JNrxYDRj",
        "outputId": "7e0f2b68-048e-44e9-b22b-7169433242c1"
      },
      "execution_count": 19,
      "outputs": [
        {
          "output_type": "stream",
          "name": "stdout",
          "text": [
            "epoch 0 loss=1.628076 acc=0.602041\n",
            "epoch 1 loss=0.947301 acc=0.696429\n",
            "epoch 2 loss=0.697066 acc=0.775510\n",
            "epoch 3 loss=0.551030 acc=0.801020\n",
            "epoch 4 loss=0.464987 acc=0.834184\n",
            "epoch 5 loss=0.426818 acc=0.836735\n",
            "epoch 6 loss=0.400421 acc=0.844388\n",
            "epoch 7 loss=0.388673 acc=0.841837\n",
            "epoch 8 loss=0.381420 acc=0.844388\n",
            "epoch 9 loss=0.375097 acc=0.844388\n"
          ]
        }
      ]
    },
    {
      "cell_type": "markdown",
      "source": [
        "# Loading the best model and test the trained model"
      ],
      "metadata": {
        "id": "TqVgscjx7axh"
      }
    },
    {
      "cell_type": "code",
      "source": [
        "predictor.load_state_dict(torch.load(model_checkpoint))\n",
        "predictor.to(device)\n",
        "\n",
        "testset = TrafficSignDataset(features_test, labels_test)\n",
        "test_loader = DataLoader(dataset=testset,\n",
        "                          batch_size=1,\n",
        "                          shuffle=False, num_workers=2)\n",
        "\n",
        "loss, acc = evaluation(predictor, val_loader, cross_entropy, device, max_iter=-1)\n",
        "print('val:', loss, acc)\n",
        "loss, acc = evaluation(predictor, test_loader, cross_entropy, device, max_iter=-1)\n",
        "print('test:', loss, acc)"
      ],
      "metadata": {
        "id": "h9o1s993Yq1U",
        "colab": {
          "base_uri": "https://localhost:8080/"
        },
        "outputId": "952ff27b-ac94-450e-8d9e-63c6c124e002"
      },
      "execution_count": 20,
      "outputs": [
        {
          "output_type": "stream",
          "name": "stdout",
          "text": [
            "val: 0.3750973036566931 0.8443877551020408\n",
            "test: 0.4886623803579823 0.8\n"
          ]
        }
      ]
    },
    {
      "cell_type": "code",
      "source": [
        ""
      ],
      "metadata": {
        "id": "hMT8tSyo7fY6"
      },
      "execution_count": null,
      "outputs": []
    }
  ]
}